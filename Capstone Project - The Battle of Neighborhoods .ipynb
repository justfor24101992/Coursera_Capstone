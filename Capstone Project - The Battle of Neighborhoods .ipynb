{
    "cells": [
        {
            "cell_type": "markdown",
            "metadata": {
                "collapsed": true
            },
            "source": "<h1 align=center><font size = 5>Capstone Project - The Battle of Neighborhoods</font></h1>"
        },
        {
            "cell_type": "markdown",
            "metadata": {},
            "source": "## Introduction\n\n\nAs a part of this project,a problem statement needs to be identified that can take leverage of the Foursquare location data to come up with insights on solving the problem. Based on the problem statement identified, analysis need to be performed on the data to come up with insights on the best approach towards solving the problem. \n"
        },
        {
            "cell_type": "markdown",
            "metadata": {},
            "source": "## Table of Contents:\n\n* [Business Problem](#first-bullet)<br>\n* [Data Section](#second-bullet)<br>\n    "
        },
        {
            "cell_type": "markdown",
            "metadata": {},
            "source": "## Business Problem <a class=\"anchor\" id=\"first-bullet\"></a>\n\nA contractor is looking towards opening a restaurant in the city of Paris. The contractor has not yet decided on the neighborhood where he is going to open the restaurant. He has approached a data scientist to provide him some guidence based on the current trends in the available data and enable him to decide on the neighborhood for his restaurant with valid justification. Additionally, the contractor is also interested in knowing the cuisine that would attract the most customers in that area. As a data scientist, I would be using the Foursquare location data and other available datasets to analyse the current trends using graphs and other data visualization methods and create clusters to indicate similar neighborhoods eventually narrowing down on the neighborhood best suited for the restaurant.  \n"
        },
        {
            "cell_type": "markdown",
            "metadata": {},
            "source": "## Data Section<a class=\"anchor\" id=\"second-bullet\"></a>\n\n\nAs a part of this analysis, FourSquare location data would be used to identify the restaurants and it's types across various neighborhoods in Paris. This data would be plotted on a map using Folium and density of restaurants in each neighborhoods would be identified. \n\nAn additional dataset would be used called food_coded.csv. This dataset is an open dataset found in Kaggle. For this project purpose, this dataset would be considered as the data collected from the various people in Paris. This dataset would contain details on their occupations, their food preferences and their willingness to eat at a restaurant. In cases where they are eating outside, their comfort foods which they would look out for are also recorded in this dataset. Based on these information, it would be possible to obtain an insight on the need of the customers and neighborhood which is in most need of a restaurant.\n\nIn the following cells an brief insight into this Food_coded dataset is provided :\n"
        },
        {
            "cell_type": "markdown",
            "metadata": {},
            "source": "Importing the food_coded dataset :"
        },
        {
            "cell_type": "code",
            "execution_count": 4,
            "metadata": {},
            "outputs": [
                {
                    "data": {
                        "text/html": "<div>\n<style scoped>\n    .dataframe tbody tr th:only-of-type {\n        vertical-align: middle;\n    }\n\n    .dataframe tbody tr th {\n        vertical-align: top;\n    }\n\n    .dataframe thead th {\n        text-align: right;\n    }\n</style>\n<table border=\"1\" class=\"dataframe\">\n  <thead>\n    <tr style=\"text-align: right;\">\n      <th></th>\n      <th>GPA</th>\n      <th>Gender</th>\n      <th>breakfast</th>\n      <th>calories_chicken</th>\n      <th>calories_day</th>\n      <th>calories_scone</th>\n      <th>coffee</th>\n      <th>comfort_food</th>\n      <th>comfort_food_reasons</th>\n      <th>comfort_food_reasons_coded</th>\n      <th>...</th>\n      <th>soup</th>\n      <th>sports</th>\n      <th>thai_food</th>\n      <th>tortilla_calories</th>\n      <th>turkey_calories</th>\n      <th>type_sports</th>\n      <th>veggies_day</th>\n      <th>vitamins</th>\n      <th>waffle_calories</th>\n      <th>weight</th>\n    </tr>\n  </thead>\n  <tbody>\n    <tr>\n      <th>0</th>\n      <td>2.4</td>\n      <td>2</td>\n      <td>1</td>\n      <td>430</td>\n      <td>NaN</td>\n      <td>315.0</td>\n      <td>1</td>\n      <td>none</td>\n      <td>we dont have comfort</td>\n      <td>9.0</td>\n      <td>...</td>\n      <td>1.0</td>\n      <td>1.0</td>\n      <td>1</td>\n      <td>1165.0</td>\n      <td>345</td>\n      <td>car racing</td>\n      <td>5</td>\n      <td>1</td>\n      <td>1315</td>\n      <td>187</td>\n    </tr>\n    <tr>\n      <th>1</th>\n      <td>3.654</td>\n      <td>1</td>\n      <td>1</td>\n      <td>610</td>\n      <td>3.0</td>\n      <td>420.0</td>\n      <td>2</td>\n      <td>chocolate, chips, ice cream</td>\n      <td>Stress, bored, anger</td>\n      <td>1.0</td>\n      <td>...</td>\n      <td>1.0</td>\n      <td>1.0</td>\n      <td>2</td>\n      <td>725.0</td>\n      <td>690</td>\n      <td>Basketball</td>\n      <td>4</td>\n      <td>2</td>\n      <td>900</td>\n      <td>155</td>\n    </tr>\n    <tr>\n      <th>2</th>\n      <td>3.3</td>\n      <td>1</td>\n      <td>1</td>\n      <td>720</td>\n      <td>4.0</td>\n      <td>420.0</td>\n      <td>2</td>\n      <td>frozen yogurt, pizza, fast food</td>\n      <td>stress, sadness</td>\n      <td>1.0</td>\n      <td>...</td>\n      <td>1.0</td>\n      <td>2.0</td>\n      <td>5</td>\n      <td>1165.0</td>\n      <td>500</td>\n      <td>none</td>\n      <td>5</td>\n      <td>1</td>\n      <td>900</td>\n      <td>I'm not answering this.</td>\n    </tr>\n    <tr>\n      <th>3</th>\n      <td>3.2</td>\n      <td>1</td>\n      <td>1</td>\n      <td>430</td>\n      <td>3.0</td>\n      <td>420.0</td>\n      <td>2</td>\n      <td>Pizza, Mac and cheese, ice cream</td>\n      <td>Boredom</td>\n      <td>2.0</td>\n      <td>...</td>\n      <td>1.0</td>\n      <td>2.0</td>\n      <td>5</td>\n      <td>725.0</td>\n      <td>690</td>\n      <td>NaN</td>\n      <td>3</td>\n      <td>1</td>\n      <td>1315</td>\n      <td>Not sure, 240</td>\n    </tr>\n    <tr>\n      <th>4</th>\n      <td>3.5</td>\n      <td>1</td>\n      <td>1</td>\n      <td>720</td>\n      <td>2.0</td>\n      <td>420.0</td>\n      <td>2</td>\n      <td>Ice cream, chocolate, chips</td>\n      <td>Stress, boredom, cravings</td>\n      <td>1.0</td>\n      <td>...</td>\n      <td>1.0</td>\n      <td>1.0</td>\n      <td>4</td>\n      <td>940.0</td>\n      <td>500</td>\n      <td>Softball</td>\n      <td>4</td>\n      <td>2</td>\n      <td>760</td>\n      <td>190</td>\n    </tr>\n  </tbody>\n</table>\n<p>5 rows \u00d7 61 columns</p>\n</div>",
                        "text/plain": "     GPA  Gender  breakfast  calories_chicken  calories_day  calories_scone  \\\n0    2.4       2          1               430           NaN           315.0   \n1  3.654       1          1               610           3.0           420.0   \n2    3.3       1          1               720           4.0           420.0   \n3    3.2       1          1               430           3.0           420.0   \n4    3.5       1          1               720           2.0           420.0   \n\n   coffee                      comfort_food        comfort_food_reasons  \\\n0       1                              none       we dont have comfort    \n1       2       chocolate, chips, ice cream        Stress, bored, anger   \n2       2   frozen yogurt, pizza, fast food             stress, sadness   \n3       2  Pizza, Mac and cheese, ice cream                     Boredom   \n4       2      Ice cream, chocolate, chips   Stress, boredom, cravings    \n\n   comfort_food_reasons_coded  ...  soup  sports  thai_food tortilla_calories  \\\n0                         9.0  ...   1.0     1.0          1            1165.0   \n1                         1.0  ...   1.0     1.0          2             725.0   \n2                         1.0  ...   1.0     2.0          5            1165.0   \n3                         2.0  ...   1.0     2.0          5             725.0   \n4                         1.0  ...   1.0     1.0          4             940.0   \n\n   turkey_calories  type_sports veggies_day  vitamins  waffle_calories  \\\n0              345   car racing           5         1             1315   \n1              690  Basketball            4         2              900   \n2              500         none           5         1              900   \n3              690          NaN           3         1             1315   \n4              500     Softball           4         2              760   \n\n                     weight  \n0                       187  \n1                       155  \n2  I'm not answering this.   \n3             Not sure, 240  \n4                       190  \n\n[5 rows x 61 columns]"
                    },
                    "execution_count": 4,
                    "metadata": {},
                    "output_type": "execute_result"
                }
            ],
            "source": "# The code was removed by Watson Studio for sharing."
        },
        {
            "cell_type": "markdown",
            "metadata": {},
            "source": "**Additional information on the dataset**\n\nPlease note that this dataset would be processed to remove the columns that are not required for his analysis.\n\nSome interesting information in the food_coded dataset that we might be using on this analysis are the following :\n\n* Gender (1 \u2013 Female and 2 \u2013 Male)\n* cook \u2013 how often do you cook?\n* eating_out - frequency of eating out in a typical week \n* fav_cuisine - What is your favorite cuisine?\n* fav_food - was your favorite food cooked at home or store bought? \n* marital_status\n* on_off_campus \u2013 living situation\n* parents_cook - Approximately how many days a week did your parents cook? \n* pay_meal_out - How much would you pay for meal out? \n\nBased on above information, we would be able to identify the target audience for our restaurant. This would mean, we would be able to decide would be the customers that have a higher chance of choosing this restaurant. Hence we could make the restaurant more appealing to these customers during the intial stage.\n\nThe above information would allow us to choose a speciality cuisine as well for the restaurant, provide us the pricing expectations.\n\nOnce we have the above information sorted out, we would be able to target the neighborhoods having higher percentage of these target customer using the venues in that we can retrive using the FourSquare API.\n\nThis would be my approach towards this problem.\n\n\n"
        },
        {
            "cell_type": "code",
            "execution_count": null,
            "metadata": {},
            "outputs": [],
            "source": ""
        }
    ],
    "metadata": {
        "kernelspec": {
            "display_name": "Python 3.7",
            "language": "python",
            "name": "python3"
        },
        "language_info": {
            "codemirror_mode": {
                "name": "ipython",
                "version": 3
            },
            "file_extension": ".py",
            "mimetype": "text/x-python",
            "name": "python",
            "nbconvert_exporter": "python",
            "pygments_lexer": "ipython3",
            "version": "3.7.9"
        }
    },
    "nbformat": 4,
    "nbformat_minor": 1
}